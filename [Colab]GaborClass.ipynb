{
  "nbformat": 4,
  "nbformat_minor": 0,
  "metadata": {
    "colab": {
      "provenance": [],
      "authorship_tag": "ABX9TyN/7rJ3ygVZZKFZgQtLjFix",
      "include_colab_link": true
    },
    "kernelspec": {
      "name": "python3",
      "display_name": "Python 3"
    },
    "language_info": {
      "name": "python"
    },
    "accelerator": "TPU"
  },
  "cells": [
    {
      "cell_type": "markdown",
      "metadata": {
        "id": "view-in-github",
        "colab_type": "text"
      },
      "source": [
        "<a href=\"https://colab.research.google.com/github/Berchie-Sam/GaborClass/blob/main/%5BColab%5DGaborClass.ipynb\" target=\"_parent\"><img src=\"https://colab.research.google.com/assets/colab-badge.svg\" alt=\"Open In Colab\"/></a>"
      ]
    },
    {
      "cell_type": "code",
      "source": [
        "from tensorflow.keras.layers import Layer\n",
        "import tensorflow.keras.backend as K\n",
        "import tensorflow as tf\n",
        "import numpy as np\n",
        "import matplotlib.pyplot as plt\n"
      ],
      "metadata": {
        "id": "iFtYrH4PfeUz"
      },
      "execution_count": null,
      "outputs": []
    },
    {
      "cell_type": "code",
      "execution_count": null,
      "metadata": {
        "id": "SwRddT2veEOX"
      },
      "outputs": [],
      "source": [
        "class GaborLayer(Layer):\n",
        "    def __init__(self, filters, kernel_size, strides=(1, 1), activation=None, **kwargs):\n",
        "        super(GaborLayer, self).__init__(**kwargs)\n",
        "        self.filters = filters\n",
        "        self.kernel_size = kernel_size\n",
        "        self.strides = strides\n",
        "        self.activation = activation\n",
        "\n",
        "    def build(self, input_shape):\n",
        "        input_channels = input_shape[-1]\n",
        "        self.kernels_real = self.add_weight(shape=(self.kernel_size[0], self.kernel_size[1], input_channels, self.filters),\n",
        "                                            initializer='glorot_uniform', trainable=True)\n",
        "        self.kernels_imag = self.add_weight(shape=(self.kernel_size[0], self.kernel_size[1], input_channels, self.filters),\n",
        "                                            initializer='glorot_uniform', trainable=True)\n",
        "        self.built = True\n",
        "\n",
        "    def call(self, inputs):\n",
        "        # Perform convolution with complex Gabor filters\n",
        "        conv_real = K.conv2d(inputs, self.kernels_real, strides=self.strides, padding='valid')\n",
        "        conv_imag = K.conv2d(inputs, self.kernels_imag, strides=self.strides, padding='valid')\n",
        "\n",
        "        # Combine real and imaginary parts\n",
        "        output = K.sqrt(K.square(conv_real) + K.square(conv_imag))\n",
        "\n",
        "        if self.activation is not None:\n",
        "            output = self.activation(output)\n",
        "\n",
        "        return output\n",
        "\n",
        "    def compute_output_shape(self, input_shape):\n",
        "        output_shape = list(input_shape)\n",
        "        output_shape[-1] = self.filters\n",
        "        return tuple(output_shape)\n",
        "\n",
        "    def _create_gabor_kernels(self, input_channels):\n",
        "        kernels_real = []\n",
        "        kernels_imag = []\n",
        "\n",
        "        # Generate Gabor filters\n",
        "        for _ in range(self.filters):\n",
        "            kernel_real, kernel_imag = self._generate_gabor_filter(self.kernel_size, input_channels)\n",
        "            kernels_real.append(kernel_real)\n",
        "            kernels_imag.append(kernel_imag)\n",
        "\n",
        "        # Stack filters along the channel dimension\n",
        "        kernels_real = K.stack(kernels_real, axis=-1)\n",
        "        kernels_imag = K.stack(kernels_imag, axis=-1)\n",
        "\n",
        "        return kernels_real, kernels_imag\n",
        "\n",
        "    def _generate_gabor_filter(self, kernel_size, input_channels):\n",
        "        # Create Gabor filter parameters\n",
        "        sigma = 0.56 * ((kernel_size[0] - 1) * 0.5 - 1) + 0.25\n",
        "        lambda_ = np.random.uniform(0.5, kernel_size[0] - 0.5)\n",
        "        psi = np.random.uniform(0, np.pi)\n",
        "        gamma = np.random.uniform(0.5, 1)\n",
        "\n",
        "        # Generate Gabor filter\n",
        "        x0 = (kernel_size[0] - 1) // 2\n",
        "        y0 = (kernel_size[1] - 1) // 2\n",
        "\n",
        "        y, x = np.mgrid[-x0:x0 + 1, -y0:y0 + 1]\n",
        "        distance_from_center = np.sqrt(x**2 + y**2)\n",
        "        mask = np.where(distance_from_center <= min(x0, y0), 1.0, 0.0)\n",
        "\n",
        "        # Generate concentric Gabor pattern by varying wavelength (lambda) and orientation (theta)\n",
        "        kernel_real = np.zeros_like(x, dtype=np.float32)\n",
        "        kernel_imag = np.zeros_like(x, dtype=np.float32)\n",
        "\n",
        "        for i in range(self.filters):\n",
        "            theta = np.pi * i / self.filters\n",
        "            x_theta = x * np.cos(theta) + y * np.sin(theta)\n",
        "            y_theta = -x * np.sin(theta) + y * np.cos(theta)\n",
        "\n",
        "            kernel_real += mask * np.exp(-0.5 * (x_theta ** 2 + gamma ** 2 * y_theta ** 2) / sigma ** 2) \\\n",
        "                          * np.cos(2 * np.pi * x_theta / lambda_ + psi)\n",
        "            kernel_imag += mask * np.exp(-0.5 * (x_theta ** 2 + gamma ** 2 * y_theta ** 2) / sigma ** 2) \\\n",
        "                          * np.sin(2 * np.pi * x_theta / lambda_ + psi)\n",
        "\n",
        "        # Reshape the kernels to match the input channel dimensions\n",
        "        kernel_real = kernel_real.reshape((kernel_size[0], kernel_size[1], 1))\n",
        "        kernel_imag = kernel_imag.reshape((kernel_size[0], kernel_size[1], 1))\n",
        "\n",
        "        # Repeat the kernels for each input channel\n",
        "        kernel_real = np.repeat(kernel_real, input_channels, axis=-1)\n",
        "        kernel_imag = np.repeat(kernel_imag, input_channels, axis=-1)\n",
        "\n",
        "        # Convert the kernels to tensors\n",
        "        kernel_real = K.constant(kernel_real, dtype=K.floatx())\n",
        "        kernel_imag = K.constant(kernel_imag, dtype=K.floatx())\n",
        "\n",
        "        return kernel_real, kernel_imag\n",
        "\n"
      ]
    },
    {
      "cell_type": "code",
      "source": [
        "\n",
        "# Step 1: Build the model\n",
        "# Instantiate the GaborLayer\n",
        "gabor_layer = GaborLayer(filters=16, kernel_size=(9, 9))\n",
        "# Input shape for the model (adjust according to your data)\n",
        "input_shape = (None, 256, 256, 3)\n",
        "# Build the model\n",
        "gabor_layer.build(input_shape)\n",
        "\n",
        "# Step 2: Get the kernels from the model's weights\n",
        "kernels_real_value, kernels_imag_value = gabor_layer.get_weights()\n",
        "\n",
        "# Step 3: Display the kernels\n",
        "fig, axs = plt.subplots(4, 4, figsize=(10, 10))\n",
        "axs = axs.ravel()\n",
        "\n",
        "for i in range(gabor_layer.filters):\n",
        "    kernel_real = kernels_real_value[:, :, :, i]\n",
        "    kernel_imag = kernels_imag_value[:, :, :, i]\n",
        "\n",
        "    # Combine real and imaginary parts\n",
        "    kernel = np.sqrt(np.square(kernel_real) + np.square(kernel_imag))\n",
        "\n",
        "    axs[i].imshow(kernel[:, :, 0], cmap='gray')\n",
        "    axs[i].axis('off')\n",
        "\n",
        "plt.show()\n"
      ],
      "metadata": {
        "colab": {
          "base_uri": "https://localhost:8080/",
          "height": 807
        },
        "id": "p4_i_Yg_eHON",
        "outputId": "12a97d11-dd50-43c6-c276-abbf40afdda5"
      },
      "execution_count": null,
      "outputs": [
        {
          "output_type": "display_data",
          "data": {
            "text/plain": [
              "<Figure size 1000x1000 with 16 Axes>"
            ],
            "image/png": "[encoded data removed]"
          },
          "metadata": {}
        }
      ]
    },
    {
      "cell_type": "code",
      "source": [],
      "metadata": {
        "id": "VjrXrKTpfjX5"
      },
      "execution_count": null,
      "outputs": []
    }
  ]
}